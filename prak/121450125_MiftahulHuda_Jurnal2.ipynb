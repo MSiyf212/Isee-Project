{
  "nbformat": 4,
  "nbformat_minor": 0,
  "metadata": {
    "colab": {
      "provenance": [],
      "collapsed_sections": []
    },
    "kernelspec": {
      "name": "python3",
      "display_name": "Python 3"
    },
    "language_info": {
      "name": "python"
    }
  },
  "cells": [
    {
      "cell_type": "markdown",
      "source": [
        "1. Buatlah sebuah fungsi yang berguna untuk memindahkan element-element dari sebuah stack ke stack lain. Artinya element terkahir di stack A akan dipindahkan dan menjadi element pertama di stack B"
      ],
      "metadata": {
        "id": "52SfLdXThKpQ"
      }
    },
    {
      "cell_type": "code",
      "execution_count": 11,
      "metadata": {
        "id": "0sBD0qnBg8uy"
      },
      "outputs": [],
      "source": [
        "class Stack:\n",
        "  def __init__(self):\n",
        "    self._data = []\n",
        "  def __len__(self):\n",
        "    return len(self._data)\n",
        "  def isempty(self):\n",
        "    return len(self._data) == 0\n",
        "  def view(self):\n",
        "    return self._data\n",
        "  def push(self, item):\n",
        "    self._data.append(item)\n",
        "  def pop(self):\n",
        "    if self.isempty():\n",
        "      raise Exception(\"stack kosong\")\n",
        "    return self._data.pop()\n",
        "  def top(self):\n",
        "    if self.isempty():\n",
        "      raise Exception(\"stack kosong\")\n",
        "    return self._data[-1]\n"
      ]
    },
    {
      "cell_type": "code",
      "source": [
        "def transfer(S, T):\n",
        "  while not S.isempty():\n",
        "    T.push(S.pop())\n",
        "  return(S, T)"
      ],
      "metadata": {
        "id": "-NP2OXt6kq-J"
      },
      "execution_count": 9,
      "outputs": []
    },
    {
      "cell_type": "code",
      "source": [
        "S, T = Stack(), Stack()\n",
        "for i in range(10):\n",
        "  S.push(i)\n",
        "\n",
        "print(\"kondisi di s stack adalah\", S.view())\n",
        "transfer(S, T)\n",
        "print(\"kondisi di t stack adalah\", T.view())"
      ],
      "metadata": {
        "colab": {
          "base_uri": "https://localhost:8080/"
        },
        "id": "DwzolqvZk7QS",
        "outputId": "7651c1cd-f0f7-40b7-8b35-51a3828ff5df"
      },
      "execution_count": 12,
      "outputs": [
        {
          "output_type": "stream",
          "name": "stdout",
          "text": [
            "kondisi di s stack adalah [0, 1, 2, 3, 4, 5, 6, 7, 8, 9]\n",
            "kondisi di t stack adalah [9, 8, 7, 6, 5, 4, 3, 2, 1, 0]\n"
          ]
        }
      ]
    },
    {
      "cell_type": "markdown",
      "source": [
        "2. Buatlah sebuah fungsi rekursif yang berguna untuk menghapus semua elemen dari stack"
      ],
      "metadata": {
        "id": "KNIAH5ENh9s2"
      }
    },
    {
      "cell_type": "code",
      "source": [
        "class Stack:\n",
        "  def __init__(self):\n",
        "    self._data = []\n",
        "  def __len__(self):\n",
        "    return len(self._data)\n",
        "  def isempty(self):\n",
        "    return len(self._data) == 0\n",
        "  def view(self):\n",
        "    return self._data\n",
        "  def push(self, item):\n",
        "    self._data.append(item)\n",
        "  def pop(self):\n",
        "    if self.isempty():\n",
        "      raise Exception(\"stack kosong\")\n",
        "    return self._data.pop()\n",
        "  def top(self):\n",
        "    if self.isempty():\n",
        "      raise Exception(\"stack kosong\")\n",
        "    return self._data[-1]\n",
        "  def full_pop(self):\n",
        "    ans = []\n",
        "    while not self.isempty():\n",
        "      ans.append(ans.pop())\n",
        "    return ans\n",
        "  def pop_recrs(self):\n",
        "    if self.view():\n",
        "      self.pop()\n",
        "      return self.pop_recrs() "
      ],
      "metadata": {
        "id": "3F_cEsktqQof"
      },
      "execution_count": 14,
      "outputs": []
    },
    {
      "cell_type": "code",
      "source": [
        "S = Stack()\n",
        "for i in range(20):\n",
        "  S.push(i)\n",
        "\n",
        "S.view()"
      ],
      "metadata": {
        "colab": {
          "base_uri": "https://localhost:8080/"
        },
        "id": "wIykrCYTrB2e",
        "outputId": "aae0d601-a128-4886-ad15-e620f6f5d45f"
      },
      "execution_count": 17,
      "outputs": [
        {
          "output_type": "execute_result",
          "data": {
            "text/plain": [
              "[0, 1, 2, 3, 4, 5, 6, 7, 8, 9, 10, 11, 12, 13, 14, 15, 16, 17, 18, 19]"
            ]
          },
          "metadata": {},
          "execution_count": 17
        }
      ]
    },
    {
      "cell_type": "code",
      "source": [
        "S.pop_recrs()\n",
        "S.view()"
      ],
      "metadata": {
        "colab": {
          "base_uri": "https://localhost:8080/"
        },
        "id": "WNhkkg6brz_V",
        "outputId": "01084df2-5973-430a-82da-c04b3953cdd7"
      },
      "execution_count": 22,
      "outputs": [
        {
          "output_type": "execute_result",
          "data": {
            "text/plain": [
              "[]"
            ]
          },
          "metadata": {},
          "execution_count": 22
        }
      ]
    },
    {
      "cell_type": "markdown",
      "source": [
        "3. Modifikasi kelas Stack sehingga dapat mereverse elemen"
      ],
      "metadata": {
        "id": "8XewiZToiIFO"
      }
    },
    {
      "cell_type": "code",
      "source": [
        "class Stack_reverse:\n",
        "  \n",
        "  def __init__(self):\n",
        "    self._data = []\n",
        "  \n",
        "  def __len__(self):\n",
        "    return len(self._data) \n",
        "  \n",
        "  def isempty(self):\n",
        "    return len(self._data) == 0\n",
        "  \n",
        "  @property\n",
        "  def view(self):\n",
        "    return self._data\n",
        "  \n",
        "  def push(self, item):\n",
        "    self._data.append(item)\n",
        "  \n",
        "  def pop(self):\n",
        "    if self.isempty():\n",
        "      raise Exception(\"stack kosong\")\n",
        "    return self._data.pop()\n",
        "\n",
        "  def top(self):\n",
        "    if self.isempty():\n",
        "      raise Exception(\"stack kosong\")\n",
        "    return self._data[-1]\n",
        "  \n",
        "  def reverse(self):\n",
        "    ans = []\n",
        "    while not self.isempty():\n",
        "      ans.append(self.pop())\n",
        "    return ans \n"
      ],
      "metadata": {
        "id": "J6iS2BVhFmJ7"
      },
      "execution_count": 23,
      "outputs": []
    },
    {
      "cell_type": "code",
      "source": [
        "a = Stack_reverse()\n",
        "for i in range(10):\n",
        "  a.push(i)\n",
        "a.view"
      ],
      "metadata": {
        "colab": {
          "base_uri": "https://localhost:8080/"
        },
        "id": "Evqwif-ZFpft",
        "outputId": "0ff756c4-d8f4-455f-d5d9-579713117994"
      },
      "execution_count": 24,
      "outputs": [
        {
          "output_type": "execute_result",
          "data": {
            "text/plain": [
              "[0, 1, 2, 3, 4, 5, 6, 7, 8, 9]"
            ]
          },
          "metadata": {},
          "execution_count": 24
        }
      ]
    },
    {
      "cell_type": "code",
      "source": [
        "a.reverse()"
      ],
      "metadata": {
        "colab": {
          "base_uri": "https://localhost:8080/"
        },
        "id": "b3kDu3d6FsW8",
        "outputId": "c2d545ea-51ba-40a4-e144-95f234c27df9"
      },
      "execution_count": 25,
      "outputs": [
        {
          "output_type": "execute_result",
          "data": {
            "text/plain": [
              "[9, 8, 7, 6, 5, 4, 3, 2, 1, 0]"
            ]
          },
          "metadata": {},
          "execution_count": 25
        }
      ]
    },
    {
      "cell_type": "markdown",
      "source": [
        "4. Buatlah fungsi Deque yang berisi firs,last,add_first,add_last,delete_first,delete_last. Lalu lakukan operasi seperti tabel di bawah dan cocokkan hasilnya"
      ],
      "metadata": {
        "id": "iQwWnPygiqAQ"
      }
    },
    {
      "cell_type": "code",
      "source": [
        "class Dequeu:\n",
        "\n",
        "  def __init__(self):\n",
        "    self._data = []\n",
        "    self._size = 0\n",
        "\n",
        "  def __len__(self):\n",
        "    return self._size\n",
        "\n",
        "  @property\n",
        "  def view(self):\n",
        "    return self._data\n",
        "\n",
        "  def first(self):\n",
        "    return self._data[0]\n",
        "\n",
        "  def add_first(self, item):\n",
        "    self._data.append(item)\n",
        "    self._data.insert(0, self._data.pop())\n",
        "    self._size += 1\n",
        "\n",
        "  def last(self):\n",
        "    return self._data[-1]\n",
        "\n",
        "  def add_last(self, item):\n",
        "    self._data.append(item)\n",
        "    self._size += 1\n",
        "\n",
        "  def isempty(self):\n",
        "    return self._size == 0\n",
        "\n",
        "  def  delete_first(self):\n",
        "    if self.isempty():\n",
        "      return Exception(\"queue kosong\")\n",
        "    else:\n",
        "      self._size -= 1\n",
        "      return self._data.pop(0)\n",
        "    \n",
        "  def delete_last(self):\n",
        "    if self.isempty():\n",
        "      raise Exception(\"queue kosong\")\n",
        "\n",
        "    else:\n",
        "      self._size -= 1\n",
        "      return self._data.pop()\n",
        "\n"
      ],
      "metadata": {
        "id": "1TtpAwWjFxwt"
      },
      "execution_count": 26,
      "outputs": []
    },
    {
      "cell_type": "code",
      "source": [
        "D = Dequeu()\n",
        "\n",
        "D.add_last(5)"
      ],
      "metadata": {
        "id": "FVqM5oZiF0n_"
      },
      "execution_count": 27,
      "outputs": []
    },
    {
      "cell_type": "code",
      "source": [
        "D.add_first(3)"
      ],
      "metadata": {
        "id": "w34WTjEIF2Iu"
      },
      "execution_count": 28,
      "outputs": []
    },
    {
      "cell_type": "code",
      "source": [
        "D.add_first(10)"
      ],
      "metadata": {
        "id": "361DddhBF3_E"
      },
      "execution_count": 29,
      "outputs": []
    },
    {
      "cell_type": "code",
      "source": [
        "print(D.first())"
      ],
      "metadata": {
        "colab": {
          "base_uri": "https://localhost:8080/"
        },
        "id": "DZaAEcyJF638",
        "outputId": "8c9c34a2-cda5-4fa5-b665-4bff89b922f0"
      },
      "execution_count": 30,
      "outputs": [
        {
          "output_type": "stream",
          "name": "stdout",
          "text": [
            "10\n"
          ]
        }
      ]
    },
    {
      "cell_type": "code",
      "source": [
        "D.last()"
      ],
      "metadata": {
        "colab": {
          "base_uri": "https://localhost:8080/"
        },
        "id": "K4q29EQ-F9z8",
        "outputId": "2b46bf1c-8750-4f29-bafd-4f8dedca5a6a"
      },
      "execution_count": 31,
      "outputs": [
        {
          "output_type": "execute_result",
          "data": {
            "text/plain": [
              "5"
            ]
          },
          "metadata": {},
          "execution_count": 31
        }
      ]
    },
    {
      "cell_type": "code",
      "source": [
        "print(D.delete_last())"
      ],
      "metadata": {
        "colab": {
          "base_uri": "https://localhost:8080/"
        },
        "id": "GUHXDa0yF__8",
        "outputId": "e50e55cf-cbe2-4aa9-9a15-620e0eec043d"
      },
      "execution_count": 32,
      "outputs": [
        {
          "output_type": "stream",
          "name": "stdout",
          "text": [
            "5\n"
          ]
        }
      ]
    },
    {
      "cell_type": "code",
      "source": [
        "len(D)"
      ],
      "metadata": {
        "colab": {
          "base_uri": "https://localhost:8080/"
        },
        "id": "cNzrw79NGCrF",
        "outputId": "8451b186-429f-48fc-9482-cafd70585fa5"
      },
      "execution_count": 33,
      "outputs": [
        {
          "output_type": "execute_result",
          "data": {
            "text/plain": [
              "2"
            ]
          },
          "metadata": {},
          "execution_count": 33
        }
      ]
    },
    {
      "cell_type": "code",
      "source": [
        "D.delete_last()"
      ],
      "metadata": {
        "colab": {
          "base_uri": "https://localhost:8080/"
        },
        "id": "dxjQaxu0GFYz",
        "outputId": "cc78bff8-00fe-4b77-957d-c9af20d713f3"
      },
      "execution_count": 34,
      "outputs": [
        {
          "output_type": "execute_result",
          "data": {
            "text/plain": [
              "3"
            ]
          },
          "metadata": {},
          "execution_count": 34
        }
      ]
    },
    {
      "cell_type": "code",
      "source": [
        "D.isempty()"
      ],
      "metadata": {
        "colab": {
          "base_uri": "https://localhost:8080/"
        },
        "id": "XBv3VV46GIsM",
        "outputId": "e098ea89-42b3-4133-943d-618d65abfbeb"
      },
      "execution_count": 35,
      "outputs": [
        {
          "output_type": "execute_result",
          "data": {
            "text/plain": [
              "False"
            ]
          },
          "metadata": {},
          "execution_count": 35
        }
      ]
    },
    {
      "cell_type": "code",
      "source": [
        "D.last()"
      ],
      "metadata": {
        "colab": {
          "base_uri": "https://localhost:8080/"
        },
        "id": "tza-ne8QGKtq",
        "outputId": "f15fd270-a087-4fbf-bc35-1bcf61be79ac"
      },
      "execution_count": 36,
      "outputs": [
        {
          "output_type": "execute_result",
          "data": {
            "text/plain": [
              "10"
            ]
          },
          "metadata": {},
          "execution_count": 36
        }
      ]
    },
    {
      "cell_type": "code",
      "source": [
        "D.first()"
      ],
      "metadata": {
        "colab": {
          "base_uri": "https://localhost:8080/"
        },
        "id": "rh_-jjAPGNPJ",
        "outputId": "53d4501c-e36c-4258-ad2b-b84130b3af14"
      },
      "execution_count": 37,
      "outputs": [
        {
          "output_type": "execute_result",
          "data": {
            "text/plain": [
              "10"
            ]
          },
          "metadata": {},
          "execution_count": 37
        }
      ]
    },
    {
      "cell_type": "code",
      "source": [
        "D.view"
      ],
      "metadata": {
        "colab": {
          "base_uri": "https://localhost:8080/"
        },
        "id": "WETKTR2WGPe1",
        "outputId": "0b625e53-a4c9-42f1-bf48-8f54fcfded66"
      },
      "execution_count": 38,
      "outputs": [
        {
          "output_type": "execute_result",
          "data": {
            "text/plain": [
              "[10]"
            ]
          },
          "metadata": {},
          "execution_count": 38
        }
      ]
    },
    {
      "cell_type": "markdown",
      "source": [
        "5. Buatlah fungsi yang dapat mengecek pasangan tanda kurung menggunakan stack ADT. Jelaskan proses kerjanya"
      ],
      "metadata": {
        "id": "vPTb3mKsGW88"
      }
    },
    {
      "cell_type": "code",
      "source": [
        "def cek_tanda_kurung(tanda_kurung):\n",
        "  item = {'(': ')' }\n",
        "  stack = []\n",
        "  for c in '((())':\n",
        "    if c == '(':\n",
        "      stack.append(c)\n",
        "\n",
        "    elif stack and c == item[stack[-1]]:\n",
        "      stack.pop()\n",
        "\n",
        "    else:\n",
        "      return False\n",
        "    return len(stack) == 0"
      ],
      "metadata": {
        "id": "bwUfH9i8GY7k"
      },
      "execution_count": 40,
      "outputs": []
    },
    {
      "cell_type": "markdown",
      "source": [
        "6. Implementasikan stack ADT menggunakan queue sebagai variabel instance"
      ],
      "metadata": {
        "id": "eDzeEs_-Gc8M"
      }
    },
    {
      "cell_type": "code",
      "source": [
        "class Queue:\n",
        "  def __init__(self):\n",
        "    self._data = []\n",
        "    self._size = 0\n",
        "\n",
        "  def __len__(self):\n",
        "    return self._size\n",
        "\n",
        "  def isempty(self):\n",
        "    return self._size == 0\n",
        "\n",
        "  def first(self):\n",
        "    return self._data[0]\n",
        "\n",
        "  def enqueu(self, item):\n",
        "    self._size += 1\n",
        "    self._data.append(item)\n",
        "\n",
        "  def dequeue(self):\n",
        "    if self.isempty():\n",
        "      raise Exception('queue kosong')\n",
        "    else :\n",
        "      self._size -= 1\n",
        "      return self._data.pop(0)"
      ],
      "metadata": {
        "id": "WzOxzoRMGfQG"
      },
      "execution_count": 39,
      "outputs": []
    },
    {
      "cell_type": "code",
      "source": [
        "#stack ADT menggunakan queue\n",
        "\n",
        "class Stackwithqueue():\n",
        "  def __init__(self):\n",
        "    self._data = Queue()\n",
        "    self._size = 0\n",
        "\n",
        "  def __len__(self):\n",
        "    return self._size\n",
        "\n",
        "  def isempty(self):\n",
        "    return self._data.isempty()\n",
        "\n",
        "  def push(self, item):\n",
        "    self._data.enqueu(item)\n",
        "    self._size += 1\n",
        "\n",
        "    for i in range(self._size-1):\n",
        "      self._data.enqueu(self._data.dequeue())\n",
        "\n",
        "  def pop(self):\n",
        "    if self.isempty():\n",
        "      raise Exception('stack kosong')\n",
        "\n",
        "    self._size -= 1\n",
        "    return self._data.dequeue()\n",
        "\n",
        "  def top(self):\n",
        "    if self.isempty():\n",
        "      raise Exception('stack kosong')\n",
        "\n",
        "    return self._data.first()"
      ],
      "metadata": {
        "id": "_nlOTREYGmE8"
      },
      "execution_count": 41,
      "outputs": []
    },
    {
      "cell_type": "code",
      "source": [
        "SQ = Stackwithqueue()\n",
        "\n",
        "for i in range(10):\n",
        "  SQ.push(i)\n",
        "\n",
        "while not SQ.isempty():\n",
        "  print(SQ.top(), SQ.pop())"
      ],
      "metadata": {
        "colab": {
          "base_uri": "https://localhost:8080/"
        },
        "id": "U_2WgVYhGosW",
        "outputId": "e29f73c0-c172-4e8a-87e8-75792243b9aa"
      },
      "execution_count": 42,
      "outputs": [
        {
          "output_type": "stream",
          "name": "stdout",
          "text": [
            "9 9\n",
            "8 8\n",
            "7 7\n",
            "6 6\n",
            "5 5\n",
            "4 4\n",
            "3 3\n",
            "2 2\n",
            "1 1\n",
            "0 0\n"
          ]
        }
      ]
    }
  ]
}